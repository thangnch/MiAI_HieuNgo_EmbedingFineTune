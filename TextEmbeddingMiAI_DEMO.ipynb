{
  "nbformat": 4,
  "nbformat_minor": 0,
  "metadata": {
    "colab": {
      "provenance": [],
      "gpuType": "T4"
    },
    "kernelspec": {
      "name": "python3",
      "display_name": "Python 3"
    },
    "language_info": {
      "name": "python"
    },
    "accelerator": "GPU",
    "widgets": {
      "application/vnd.jupyter.widget-state+json": {
        "8937970350a5456eb34404427571f3d9": {
          "model_module": "@jupyter-widgets/controls",
          "model_name": "HBoxModel",
          "model_module_version": "1.5.0",
          "state": {
            "_dom_classes": [],
            "_model_module": "@jupyter-widgets/controls",
            "_model_module_version": "1.5.0",
            "_model_name": "HBoxModel",
            "_view_count": null,
            "_view_module": "@jupyter-widgets/controls",
            "_view_module_version": "1.5.0",
            "_view_name": "HBoxView",
            "box_style": "",
            "children": [
              "IPY_MODEL_a909e83b41b74c2db2108d5375a895b5",
              "IPY_MODEL_68d9ca8be7d843c6a5ae1d524c22134d",
              "IPY_MODEL_36054bdcd5ad4b5eb7451f3b7b90b2a6"
            ],
            "layout": "IPY_MODEL_5daa8f2b7eac44dab0c921b3156879a9"
          }
        },
        "a909e83b41b74c2db2108d5375a895b5": {
          "model_module": "@jupyter-widgets/controls",
          "model_name": "HTMLModel",
          "model_module_version": "1.5.0",
          "state": {
            "_dom_classes": [],
            "_model_module": "@jupyter-widgets/controls",
            "_model_module_version": "1.5.0",
            "_model_name": "HTMLModel",
            "_view_count": null,
            "_view_module": "@jupyter-widgets/controls",
            "_view_module_version": "1.5.0",
            "_view_name": "HTMLView",
            "description": "",
            "description_tooltip": null,
            "layout": "IPY_MODEL_c32235198be34aa2a23e9de64e7ab497",
            "placeholder": "​",
            "style": "IPY_MODEL_2bc21fb787984d438131444962030173",
            "value": "Computing widget examples:   0%"
          }
        },
        "68d9ca8be7d843c6a5ae1d524c22134d": {
          "model_module": "@jupyter-widgets/controls",
          "model_name": "FloatProgressModel",
          "model_module_version": "1.5.0",
          "state": {
            "_dom_classes": [],
            "_model_module": "@jupyter-widgets/controls",
            "_model_module_version": "1.5.0",
            "_model_name": "FloatProgressModel",
            "_view_count": null,
            "_view_module": "@jupyter-widgets/controls",
            "_view_module_version": "1.5.0",
            "_view_name": "ProgressView",
            "bar_style": "",
            "description": "",
            "description_tooltip": null,
            "layout": "IPY_MODEL_053b28c0f4b44791a76112d0bfe7f252",
            "max": 1,
            "min": 0,
            "orientation": "horizontal",
            "style": "IPY_MODEL_bb84a3cb25a049769a6186732db3e6f7",
            "value": 1
          }
        },
        "36054bdcd5ad4b5eb7451f3b7b90b2a6": {
          "model_module": "@jupyter-widgets/controls",
          "model_name": "HTMLModel",
          "model_module_version": "1.5.0",
          "state": {
            "_dom_classes": [],
            "_model_module": "@jupyter-widgets/controls",
            "_model_module_version": "1.5.0",
            "_model_name": "HTMLModel",
            "_view_count": null,
            "_view_module": "@jupyter-widgets/controls",
            "_view_module_version": "1.5.0",
            "_view_name": "HTMLView",
            "description": "",
            "description_tooltip": null,
            "layout": "IPY_MODEL_cdbc876c8fca463e8f296d8f27ca61ef",
            "placeholder": "​",
            "style": "IPY_MODEL_71a393969a1445a5b98ee40ce07c0a81",
            "value": " 0/1 [00:00&lt;?, ?example/s]"
          }
        },
        "5daa8f2b7eac44dab0c921b3156879a9": {
          "model_module": "@jupyter-widgets/base",
          "model_name": "LayoutModel",
          "model_module_version": "1.2.0",
          "state": {
            "_model_module": "@jupyter-widgets/base",
            "_model_module_version": "1.2.0",
            "_model_name": "LayoutModel",
            "_view_count": null,
            "_view_module": "@jupyter-widgets/base",
            "_view_module_version": "1.2.0",
            "_view_name": "LayoutView",
            "align_content": null,
            "align_items": null,
            "align_self": null,
            "border": null,
            "bottom": null,
            "display": null,
            "flex": null,
            "flex_flow": null,
            "grid_area": null,
            "grid_auto_columns": null,
            "grid_auto_flow": null,
            "grid_auto_rows": null,
            "grid_column": null,
            "grid_gap": null,
            "grid_row": null,
            "grid_template_areas": null,
            "grid_template_columns": null,
            "grid_template_rows": null,
            "height": null,
            "justify_content": null,
            "justify_items": null,
            "left": null,
            "margin": null,
            "max_height": null,
            "max_width": null,
            "min_height": null,
            "min_width": null,
            "object_fit": null,
            "object_position": null,
            "order": null,
            "overflow": null,
            "overflow_x": null,
            "overflow_y": null,
            "padding": null,
            "right": null,
            "top": null,
            "visibility": "hidden",
            "width": null
          }
        },
        "c32235198be34aa2a23e9de64e7ab497": {
          "model_module": "@jupyter-widgets/base",
          "model_name": "LayoutModel",
          "model_module_version": "1.2.0",
          "state": {
            "_model_module": "@jupyter-widgets/base",
            "_model_module_version": "1.2.0",
            "_model_name": "LayoutModel",
            "_view_count": null,
            "_view_module": "@jupyter-widgets/base",
            "_view_module_version": "1.2.0",
            "_view_name": "LayoutView",
            "align_content": null,
            "align_items": null,
            "align_self": null,
            "border": null,
            "bottom": null,
            "display": null,
            "flex": null,
            "flex_flow": null,
            "grid_area": null,
            "grid_auto_columns": null,
            "grid_auto_flow": null,
            "grid_auto_rows": null,
            "grid_column": null,
            "grid_gap": null,
            "grid_row": null,
            "grid_template_areas": null,
            "grid_template_columns": null,
            "grid_template_rows": null,
            "height": null,
            "justify_content": null,
            "justify_items": null,
            "left": null,
            "margin": null,
            "max_height": null,
            "max_width": null,
            "min_height": null,
            "min_width": null,
            "object_fit": null,
            "object_position": null,
            "order": null,
            "overflow": null,
            "overflow_x": null,
            "overflow_y": null,
            "padding": null,
            "right": null,
            "top": null,
            "visibility": null,
            "width": null
          }
        },
        "2bc21fb787984d438131444962030173": {
          "model_module": "@jupyter-widgets/controls",
          "model_name": "DescriptionStyleModel",
          "model_module_version": "1.5.0",
          "state": {
            "_model_module": "@jupyter-widgets/controls",
            "_model_module_version": "1.5.0",
            "_model_name": "DescriptionStyleModel",
            "_view_count": null,
            "_view_module": "@jupyter-widgets/base",
            "_view_module_version": "1.2.0",
            "_view_name": "StyleView",
            "description_width": ""
          }
        },
        "053b28c0f4b44791a76112d0bfe7f252": {
          "model_module": "@jupyter-widgets/base",
          "model_name": "LayoutModel",
          "model_module_version": "1.2.0",
          "state": {
            "_model_module": "@jupyter-widgets/base",
            "_model_module_version": "1.2.0",
            "_model_name": "LayoutModel",
            "_view_count": null,
            "_view_module": "@jupyter-widgets/base",
            "_view_module_version": "1.2.0",
            "_view_name": "LayoutView",
            "align_content": null,
            "align_items": null,
            "align_self": null,
            "border": null,
            "bottom": null,
            "display": null,
            "flex": null,
            "flex_flow": null,
            "grid_area": null,
            "grid_auto_columns": null,
            "grid_auto_flow": null,
            "grid_auto_rows": null,
            "grid_column": null,
            "grid_gap": null,
            "grid_row": null,
            "grid_template_areas": null,
            "grid_template_columns": null,
            "grid_template_rows": null,
            "height": null,
            "justify_content": null,
            "justify_items": null,
            "left": null,
            "margin": null,
            "max_height": null,
            "max_width": null,
            "min_height": null,
            "min_width": null,
            "object_fit": null,
            "object_position": null,
            "order": null,
            "overflow": null,
            "overflow_x": null,
            "overflow_y": null,
            "padding": null,
            "right": null,
            "top": null,
            "visibility": null,
            "width": null
          }
        },
        "bb84a3cb25a049769a6186732db3e6f7": {
          "model_module": "@jupyter-widgets/controls",
          "model_name": "ProgressStyleModel",
          "model_module_version": "1.5.0",
          "state": {
            "_model_module": "@jupyter-widgets/controls",
            "_model_module_version": "1.5.0",
            "_model_name": "ProgressStyleModel",
            "_view_count": null,
            "_view_module": "@jupyter-widgets/base",
            "_view_module_version": "1.2.0",
            "_view_name": "StyleView",
            "bar_color": null,
            "description_width": ""
          }
        },
        "cdbc876c8fca463e8f296d8f27ca61ef": {
          "model_module": "@jupyter-widgets/base",
          "model_name": "LayoutModel",
          "model_module_version": "1.2.0",
          "state": {
            "_model_module": "@jupyter-widgets/base",
            "_model_module_version": "1.2.0",
            "_model_name": "LayoutModel",
            "_view_count": null,
            "_view_module": "@jupyter-widgets/base",
            "_view_module_version": "1.2.0",
            "_view_name": "LayoutView",
            "align_content": null,
            "align_items": null,
            "align_self": null,
            "border": null,
            "bottom": null,
            "display": null,
            "flex": null,
            "flex_flow": null,
            "grid_area": null,
            "grid_auto_columns": null,
            "grid_auto_flow": null,
            "grid_auto_rows": null,
            "grid_column": null,
            "grid_gap": null,
            "grid_row": null,
            "grid_template_areas": null,
            "grid_template_columns": null,
            "grid_template_rows": null,
            "height": null,
            "justify_content": null,
            "justify_items": null,
            "left": null,
            "margin": null,
            "max_height": null,
            "max_width": null,
            "min_height": null,
            "min_width": null,
            "object_fit": null,
            "object_position": null,
            "order": null,
            "overflow": null,
            "overflow_x": null,
            "overflow_y": null,
            "padding": null,
            "right": null,
            "top": null,
            "visibility": null,
            "width": null
          }
        },
        "71a393969a1445a5b98ee40ce07c0a81": {
          "model_module": "@jupyter-widgets/controls",
          "model_name": "DescriptionStyleModel",
          "model_module_version": "1.5.0",
          "state": {
            "_model_module": "@jupyter-widgets/controls",
            "_model_module_version": "1.5.0",
            "_model_name": "DescriptionStyleModel",
            "_view_count": null,
            "_view_module": "@jupyter-widgets/base",
            "_view_module_version": "1.2.0",
            "_view_name": "StyleView",
            "description_width": ""
          }
        }
      }
    }
  },
  "cells": [
    {
      "cell_type": "code",
      "source": [
        "!pip install sentence_transformers datasets accelerate"
      ],
      "metadata": {
        "colab": {
          "base_uri": "https://localhost:8080/"
        },
        "id": "8lF4bhxMwth0",
        "outputId": "e8316d3b-7f47-4a60-8137-c8906e60a1c0",
        "collapsed": true
      },
      "execution_count": null,
      "outputs": [
        {
          "output_type": "stream",
          "name": "stdout",
          "text": [
            "Requirement already satisfied: sentence_transformers in /usr/local/lib/python3.10/dist-packages (3.0.1)\n",
            "Requirement already satisfied: datasets in /usr/local/lib/python3.10/dist-packages (2.20.0)\n",
            "Requirement already satisfied: accelerate in /usr/local/lib/python3.10/dist-packages (0.32.1)\n",
            "Requirement already satisfied: transformers<5.0.0,>=4.34.0 in /usr/local/lib/python3.10/dist-packages (from sentence_transformers) (4.41.2)\n",
            "Requirement already satisfied: tqdm in /usr/local/lib/python3.10/dist-packages (from sentence_transformers) (4.66.4)\n",
            "Requirement already satisfied: torch>=1.11.0 in /usr/local/lib/python3.10/dist-packages (from sentence_transformers) (2.3.0+cu121)\n",
            "Requirement already satisfied: numpy in /usr/local/lib/python3.10/dist-packages (from sentence_transformers) (1.25.2)\n",
            "Requirement already satisfied: scikit-learn in /usr/local/lib/python3.10/dist-packages (from sentence_transformers) (1.2.2)\n",
            "Requirement already satisfied: scipy in /usr/local/lib/python3.10/dist-packages (from sentence_transformers) (1.11.4)\n",
            "Requirement already satisfied: huggingface-hub>=0.15.1 in /usr/local/lib/python3.10/dist-packages (from sentence_transformers) (0.23.4)\n",
            "Requirement already satisfied: Pillow in /usr/local/lib/python3.10/dist-packages (from sentence_transformers) (9.4.0)\n",
            "Requirement already satisfied: filelock in /usr/local/lib/python3.10/dist-packages (from datasets) (3.15.4)\n",
            "Requirement already satisfied: pyarrow>=15.0.0 in /usr/local/lib/python3.10/dist-packages (from datasets) (16.1.0)\n",
            "Requirement already satisfied: pyarrow-hotfix in /usr/local/lib/python3.10/dist-packages (from datasets) (0.6)\n",
            "Requirement already satisfied: dill<0.3.9,>=0.3.0 in /usr/local/lib/python3.10/dist-packages (from datasets) (0.3.8)\n",
            "Requirement already satisfied: pandas in /usr/local/lib/python3.10/dist-packages (from datasets) (2.0.3)\n",
            "Requirement already satisfied: requests>=2.32.2 in /usr/local/lib/python3.10/dist-packages (from datasets) (2.32.3)\n",
            "Requirement already satisfied: xxhash in /usr/local/lib/python3.10/dist-packages (from datasets) (3.4.1)\n",
            "Requirement already satisfied: multiprocess in /usr/local/lib/python3.10/dist-packages (from datasets) (0.70.16)\n",
            "Requirement already satisfied: fsspec[http]<=2024.5.0,>=2023.1.0 in /usr/local/lib/python3.10/dist-packages (from datasets) (2023.6.0)\n",
            "Requirement already satisfied: aiohttp in /usr/local/lib/python3.10/dist-packages (from datasets) (3.9.5)\n",
            "Requirement already satisfied: packaging in /usr/local/lib/python3.10/dist-packages (from datasets) (24.1)\n",
            "Requirement already satisfied: pyyaml>=5.1 in /usr/local/lib/python3.10/dist-packages (from datasets) (6.0.1)\n",
            "Requirement already satisfied: psutil in /usr/local/lib/python3.10/dist-packages (from accelerate) (5.9.5)\n",
            "Requirement already satisfied: safetensors>=0.3.1 in /usr/local/lib/python3.10/dist-packages (from accelerate) (0.4.3)\n",
            "Requirement already satisfied: aiosignal>=1.1.2 in /usr/local/lib/python3.10/dist-packages (from aiohttp->datasets) (1.3.1)\n",
            "Requirement already satisfied: attrs>=17.3.0 in /usr/local/lib/python3.10/dist-packages (from aiohttp->datasets) (23.2.0)\n",
            "Requirement already satisfied: frozenlist>=1.1.1 in /usr/local/lib/python3.10/dist-packages (from aiohttp->datasets) (1.4.1)\n",
            "Requirement already satisfied: multidict<7.0,>=4.5 in /usr/local/lib/python3.10/dist-packages (from aiohttp->datasets) (6.0.5)\n",
            "Requirement already satisfied: yarl<2.0,>=1.0 in /usr/local/lib/python3.10/dist-packages (from aiohttp->datasets) (1.9.4)\n",
            "Requirement already satisfied: async-timeout<5.0,>=4.0 in /usr/local/lib/python3.10/dist-packages (from aiohttp->datasets) (4.0.3)\n",
            "Requirement already satisfied: typing-extensions>=3.7.4.3 in /usr/local/lib/python3.10/dist-packages (from huggingface-hub>=0.15.1->sentence_transformers) (4.12.2)\n",
            "Requirement already satisfied: charset-normalizer<4,>=2 in /usr/local/lib/python3.10/dist-packages (from requests>=2.32.2->datasets) (3.3.2)\n",
            "Requirement already satisfied: idna<4,>=2.5 in /usr/local/lib/python3.10/dist-packages (from requests>=2.32.2->datasets) (3.7)\n",
            "Requirement already satisfied: urllib3<3,>=1.21.1 in /usr/local/lib/python3.10/dist-packages (from requests>=2.32.2->datasets) (2.0.7)\n",
            "Requirement already satisfied: certifi>=2017.4.17 in /usr/local/lib/python3.10/dist-packages (from requests>=2.32.2->datasets) (2024.6.2)\n",
            "Requirement already satisfied: sympy in /usr/local/lib/python3.10/dist-packages (from torch>=1.11.0->sentence_transformers) (1.12.1)\n",
            "Requirement already satisfied: networkx in /usr/local/lib/python3.10/dist-packages (from torch>=1.11.0->sentence_transformers) (3.3)\n",
            "Requirement already satisfied: jinja2 in /usr/local/lib/python3.10/dist-packages (from torch>=1.11.0->sentence_transformers) (3.1.4)\n",
            "Requirement already satisfied: nvidia-cuda-nvrtc-cu12==12.1.105 in /usr/local/lib/python3.10/dist-packages (from torch>=1.11.0->sentence_transformers) (12.1.105)\n",
            "Requirement already satisfied: nvidia-cuda-runtime-cu12==12.1.105 in /usr/local/lib/python3.10/dist-packages (from torch>=1.11.0->sentence_transformers) (12.1.105)\n",
            "Requirement already satisfied: nvidia-cuda-cupti-cu12==12.1.105 in /usr/local/lib/python3.10/dist-packages (from torch>=1.11.0->sentence_transformers) (12.1.105)\n",
            "Requirement already satisfied: nvidia-cudnn-cu12==8.9.2.26 in /usr/local/lib/python3.10/dist-packages (from torch>=1.11.0->sentence_transformers) (8.9.2.26)\n",
            "Requirement already satisfied: nvidia-cublas-cu12==12.1.3.1 in /usr/local/lib/python3.10/dist-packages (from torch>=1.11.0->sentence_transformers) (12.1.3.1)\n",
            "Requirement already satisfied: nvidia-cufft-cu12==11.0.2.54 in /usr/local/lib/python3.10/dist-packages (from torch>=1.11.0->sentence_transformers) (11.0.2.54)\n",
            "Requirement already satisfied: nvidia-curand-cu12==10.3.2.106 in /usr/local/lib/python3.10/dist-packages (from torch>=1.11.0->sentence_transformers) (10.3.2.106)\n",
            "Requirement already satisfied: nvidia-cusolver-cu12==11.4.5.107 in /usr/local/lib/python3.10/dist-packages (from torch>=1.11.0->sentence_transformers) (11.4.5.107)\n",
            "Requirement already satisfied: nvidia-cusparse-cu12==12.1.0.106 in /usr/local/lib/python3.10/dist-packages (from torch>=1.11.0->sentence_transformers) (12.1.0.106)\n",
            "Requirement already satisfied: nvidia-nccl-cu12==2.20.5 in /usr/local/lib/python3.10/dist-packages (from torch>=1.11.0->sentence_transformers) (2.20.5)\n",
            "Requirement already satisfied: nvidia-nvtx-cu12==12.1.105 in /usr/local/lib/python3.10/dist-packages (from torch>=1.11.0->sentence_transformers) (12.1.105)\n",
            "Requirement already satisfied: triton==2.3.0 in /usr/local/lib/python3.10/dist-packages (from torch>=1.11.0->sentence_transformers) (2.3.0)\n",
            "Requirement already satisfied: nvidia-nvjitlink-cu12 in /usr/local/lib/python3.10/dist-packages (from nvidia-cusolver-cu12==11.4.5.107->torch>=1.11.0->sentence_transformers) (12.5.82)\n",
            "Requirement already satisfied: regex!=2019.12.17 in /usr/local/lib/python3.10/dist-packages (from transformers<5.0.0,>=4.34.0->sentence_transformers) (2024.5.15)\n",
            "Requirement already satisfied: tokenizers<0.20,>=0.19 in /usr/local/lib/python3.10/dist-packages (from transformers<5.0.0,>=4.34.0->sentence_transformers) (0.19.1)\n",
            "Requirement already satisfied: python-dateutil>=2.8.2 in /usr/local/lib/python3.10/dist-packages (from pandas->datasets) (2.8.2)\n",
            "Requirement already satisfied: pytz>=2020.1 in /usr/local/lib/python3.10/dist-packages (from pandas->datasets) (2023.4)\n",
            "Requirement already satisfied: tzdata>=2022.1 in /usr/local/lib/python3.10/dist-packages (from pandas->datasets) (2024.1)\n",
            "Requirement already satisfied: joblib>=1.1.1 in /usr/local/lib/python3.10/dist-packages (from scikit-learn->sentence_transformers) (1.4.2)\n",
            "Requirement already satisfied: threadpoolctl>=2.0.0 in /usr/local/lib/python3.10/dist-packages (from scikit-learn->sentence_transformers) (3.5.0)\n",
            "Requirement already satisfied: six>=1.5 in /usr/local/lib/python3.10/dist-packages (from python-dateutil>=2.8.2->pandas->datasets) (1.16.0)\n",
            "Requirement already satisfied: MarkupSafe>=2.0 in /usr/local/lib/python3.10/dist-packages (from jinja2->torch>=1.11.0->sentence_transformers) (2.1.5)\n",
            "Requirement already satisfied: mpmath<1.4.0,>=1.1.0 in /usr/local/lib/python3.10/dist-packages (from sympy->torch>=1.11.0->sentence_transformers) (1.3.0)\n"
          ]
        }
      ]
    },
    {
      "cell_type": "markdown",
      "source": [
        "# base"
      ],
      "metadata": {
        "id": "TXGU4NHEkFGW"
      }
    },
    {
      "cell_type": "code",
      "source": [
        "import random\n",
        "from sentence_transformers import SentenceTransformer\n",
        "from sentence_transformers.evaluation import InformationRetrievalEvaluator\n",
        "from datasets import load_dataset"
      ],
      "metadata": {
        "colab": {
          "base_uri": "https://localhost:8080/"
        },
        "id": "i8p6my3fwl4i",
        "outputId": "6f605e3b-6522-4c8b-f22a-fff9682e6cff"
      },
      "execution_count": null,
      "outputs": [
        {
          "output_type": "stream",
          "name": "stderr",
          "text": [
            "/usr/local/lib/python3.10/dist-packages/sentence_transformers/cross_encoder/CrossEncoder.py:11: TqdmExperimentalWarning: Using `tqdm.autonotebook.tqdm` in notebook mode. Use `tqdm.tqdm` instead to force console mode (e.g. in jupyter console)\n",
            "  from tqdm.autonotebook import tqdm, trange\n"
          ]
        }
      ]
    },
    {
      "cell_type": "code",
      "execution_count": null,
      "metadata": {
        "colab": {
          "base_uri": "https://localhost:8080/"
        },
        "id": "FdZ9QzsFi_t4",
        "outputId": "2400c4d4-3f1f-47c2-cf4f-bfdebe42a8f3",
        "collapsed": true
      },
      "outputs": [
        {
          "output_type": "stream",
          "name": "stderr",
          "text": [
            "/usr/local/lib/python3.10/dist-packages/huggingface_hub/utils/_token.py:89: UserWarning: \n",
            "The secret `HF_TOKEN` does not exist in your Colab secrets.\n",
            "To authenticate with the Hugging Face Hub, create a token in your settings tab (https://huggingface.co/settings/tokens), set it as secret in your Google Colab and restart your session.\n",
            "You will be able to reuse this secret in all of your notebooks.\n",
            "Please note that authentication is recommended but still optional to access public models or datasets.\n",
            "  warnings.warn(\n"
          ]
        }
      ],
      "source": [
        "corpus = load_dataset(\"hiieu/legal_eval\", split=\"corpus\")\n",
        "queries = load_dataset(\"hiieu/legal_eval\", split=\"queries\")\n",
        "relevant_docs_data = load_dataset(\"hiieu/legal_eval_label\", split=\"train\")\n",
        "# Convert the datasets to dictionaries\n",
        "corpus = dict(zip(corpus[\"id\"], corpus[\"text\"]))  # Our corpus (cid => document)\n",
        "queries = dict(zip(queries[\"id\"], queries[\"text\"]))  # Our queries (qid => question)\n",
        "relevant_docs = {}  # Query ID to relevant documents (qid => set([relevant_cids])\n",
        "for qid, corpus_ids in zip(relevant_docs_data[\"question_id\"], relevant_docs_data[\"corpus_id\"]):\n",
        "    qid = str(qid)\n",
        "    corpus_ids = str(corpus_ids)\n",
        "    if qid not in relevant_docs:\n",
        "        relevant_docs[qid] = set()\n",
        "    relevant_docs[qid].add(corpus_ids)"
      ]
    },
    {
      "cell_type": "code",
      "source": [
        "import json\n",
        "import torch\n",
        "from sentence_transformers import SentenceTransformer\n",
        "from sentence_transformers.evaluation import (\n",
        "    InformationRetrievalEvaluator,\n",
        "    SequentialEvaluator,\n",
        ")\n",
        "from sentence_transformers.util import cos_sim\n",
        "from datasets import load_dataset, concatenate_datasets\n",
        "\n",
        "model = SentenceTransformer(\"hiieu/halong_embedding\")\n",
        "matryoshka_dimensions = [768, 512, 256, 128, 64] # Important: large to small\n",
        "matryoshka_evaluators = []\n",
        "# Iterate over the different dimensions\n",
        "for dim in matryoshka_dimensions:\n",
        "    ir_evaluator = InformationRetrievalEvaluator(\n",
        "        queries=queries,\n",
        "        corpus=corpus,\n",
        "        relevant_docs=relevant_docs,\n",
        "        name=f\"dim_{dim}\",\n",
        "        truncate_dim=dim,  # Truncate the embeddings to a certain dimension\n",
        "        score_functions={\"cosine\": cos_sim},\n",
        "    )\n",
        "    matryoshka_evaluators.append(ir_evaluator)\n",
        "\n",
        "# Create a sequential evaluator\n",
        "evaluator = SequentialEvaluator(matryoshka_evaluators)"
      ],
      "metadata": {
        "colab": {
          "base_uri": "https://localhost:8080/"
        },
        "id": "YXGCBdyOkM-p",
        "outputId": "7834d0df-1920-470b-becb-cfe69a05cf59"
      },
      "execution_count": null,
      "outputs": [
        {
          "output_type": "stream",
          "name": "stderr",
          "text": [
            "/usr/local/lib/python3.10/dist-packages/huggingface_hub/file_download.py:1132: FutureWarning: `resume_download` is deprecated and will be removed in version 1.0.0. Downloads always resume when possible. If you want to force a new download, use `force_download=True`.\n",
            "  warnings.warn(\n"
          ]
        }
      ]
    },
    {
      "cell_type": "code",
      "source": [
        "# Evaluate the model\n",
        "results = evaluator(model)\n",
        "for k,v in results.items():\n",
        "    print(k, v)"
      ],
      "metadata": {
        "id": "k_L-BvrwkWam",
        "colab": {
          "base_uri": "https://localhost:8080/"
        },
        "outputId": "42e68479-22c4-4d7e-b138-3cee5d3d9723"
      },
      "execution_count": null,
      "outputs": [
        {
          "output_type": "stream",
          "name": "stdout",
          "text": [
            "dim_768_cosine_accuracy@1 0.8294209702660407\n",
            "dim_768_cosine_accuracy@3 0.9233176838810642\n",
            "dim_768_cosine_accuracy@5 0.9436619718309859\n",
            "dim_768_cosine_accuracy@10 0.9687010954616588\n",
            "dim_768_cosine_precision@1 0.8294209702660407\n",
            "dim_768_cosine_precision@3 0.3145539906103286\n",
            "dim_768_cosine_precision@5 0.1931142410015649\n",
            "dim_768_cosine_precision@10 0.09906103286384975\n",
            "dim_768_cosine_recall@1 0.8145539906103286\n",
            "dim_768_cosine_recall@3 0.9178403755868545\n",
            "dim_768_cosine_recall@5 0.9389671361502347\n",
            "dim_768_cosine_recall@10 0.9640062597809077\n",
            "dim_768_cosine_ndcg@10 0.8976041381292648\n",
            "dim_768_cosine_mrr@10 0.879893558884169\n",
            "dim_768_cosine_map@100 0.8763179130484675\n",
            "dim_512_cosine_accuracy@1 0.8137715179968701\n",
            "dim_512_cosine_accuracy@3 0.9233176838810642\n",
            "dim_512_cosine_accuracy@5 0.9389671361502347\n",
            "dim_512_cosine_accuracy@10 0.9702660406885759\n",
            "dim_512_cosine_precision@1 0.8137715179968701\n",
            "dim_512_cosine_precision@3 0.3145539906103286\n",
            "dim_512_cosine_precision@5 0.1921752738654147\n",
            "dim_512_cosine_precision@10 0.09921752738654145\n",
            "dim_512_cosine_recall@1 0.798904538341158\n",
            "dim_512_cosine_recall@3 0.9178403755868545\n",
            "dim_512_cosine_recall@5 0.9342723004694836\n",
            "dim_512_cosine_recall@10 0.9655712050078247\n",
            "dim_512_cosine_ndcg@10 0.8917052425562502\n",
            "dim_512_cosine_mrr@10 0.8715204809101522\n",
            "dim_512_cosine_map@100 0.8677541223761247\n",
            "dim_256_cosine_accuracy@1 0.7934272300469484\n",
            "dim_256_cosine_accuracy@3 0.8967136150234741\n",
            "dim_256_cosine_accuracy@5 0.9280125195618153\n",
            "dim_256_cosine_accuracy@10 0.9593114241001565\n",
            "dim_256_cosine_precision@1 0.7934272300469484\n",
            "dim_256_cosine_precision@3 0.306207616066771\n",
            "dim_256_cosine_precision@5 0.1899843505477308\n",
            "dim_256_cosine_precision@10 0.0981220657276995\n",
            "dim_256_cosine_recall@1 0.7785602503912363\n",
            "dim_256_cosine_recall@3 0.892018779342723\n",
            "dim_256_cosine_recall@5 0.9233176838810642\n",
            "dim_256_cosine_recall@10 0.9546165884194053\n",
            "dim_256_cosine_ndcg@10 0.8743116546672154\n",
            "dim_256_cosine_mrr@10 0.8519605286037208\n",
            "dim_256_cosine_map@100 0.8489415259445998\n",
            "dim_128_cosine_accuracy@1 0.784037558685446\n",
            "dim_128_cosine_accuracy@3 0.8951486697965572\n",
            "dim_128_cosine_accuracy@5 0.9264475743348983\n",
            "dim_128_cosine_accuracy@10 0.9514866979655712\n",
            "dim_128_cosine_precision@1 0.784037558685446\n",
            "dim_128_cosine_precision@3 0.3046426708398539\n",
            "dim_128_cosine_precision@5 0.189358372456964\n",
            "dim_128_cosine_precision@10 0.0974960876369327\n",
            "dim_128_cosine_recall@1 0.770735524256651\n",
            "dim_128_cosine_recall@3 0.8888888888888888\n",
            "dim_128_cosine_recall@5 0.9209702660406885\n",
            "dim_128_cosine_recall@10 0.9475743348982786\n",
            "dim_128_cosine_ndcg@10 0.8669413113955771\n",
            "dim_128_cosine_mrr@10 0.8438960926050127\n",
            "dim_128_cosine_map@100 0.8412124852625058\n",
            "dim_64_cosine_accuracy@1 0.6979655712050078\n",
            "dim_64_cosine_accuracy@3 0.8435054773082942\n",
            "dim_64_cosine_accuracy@5 0.892018779342723\n",
            "dim_64_cosine_accuracy@10 0.9358372456964006\n",
            "dim_64_cosine_precision@1 0.6979655712050078\n",
            "dim_64_cosine_precision@3 0.2863849765258216\n",
            "dim_64_cosine_precision@5 0.1815336463223787\n",
            "dim_64_cosine_precision@10 0.09577464788732393\n",
            "dim_64_cosine_recall@1 0.6854460093896714\n",
            "dim_64_cosine_recall@3 0.8364632237871674\n",
            "dim_64_cosine_recall@5 0.8841940532081377\n",
            "dim_64_cosine_recall@10 0.9311424100156495\n",
            "dim_64_cosine_ndcg@10 0.8144753860638099\n",
            "dim_64_cosine_mrr@10 0.7805387882852668\n",
            "dim_64_cosine_map@100 0.7774758245424915\n",
            "sequential_score 0.7774758245424915\n"
          ]
        }
      ]
    },
    {
      "cell_type": "markdown",
      "source": [
        "# Training"
      ],
      "metadata": {
        "id": "BiWZBzCckG1J"
      }
    },
    {
      "cell_type": "code",
      "source": [
        "import pandas as pd\n",
        "from datasets import Dataset\n",
        "\n",
        "def prepare_training_dataset(queries, corpus, relevant_docs):\n",
        "    anchors = []\n",
        "    positives = []\n",
        "    for query_id, docs in relevant_docs.items():\n",
        "        for doc_id in docs:\n",
        "          anchors.append(queries[query_id])\n",
        "          positives.append(corpus[doc_id] )\n",
        "    df = {\n",
        "        \"anchor\": anchors,\n",
        "        \"positive\": positives\n",
        "    }\n",
        "\n",
        "    return Dataset.from_dict(df)\n",
        "\n",
        "pairs = prepare_training_dataset(queries, corpus, relevant_docs)\n",
        "pairs"
      ],
      "metadata": {
        "colab": {
          "base_uri": "https://localhost:8080/"
        },
        "id": "gkiurH_DkH0O",
        "outputId": "e642433b-0fed-4522-95ae-03483457bf68"
      },
      "execution_count": null,
      "outputs": [
        {
          "output_type": "execute_result",
          "data": {
            "text/plain": [
              "Dataset({\n",
              "    features: ['anchor', 'positive'],\n",
              "    num_rows: 659\n",
              "})"
            ]
          },
          "metadata": {},
          "execution_count": 6
        }
      ]
    },
    {
      "cell_type": "code",
      "source": [
        "pairs[0]"
      ],
      "metadata": {
        "colab": {
          "base_uri": "https://localhost:8080/"
        },
        "id": "pFVXTC1t5aHk",
        "outputId": "31b0f62f-7684-4303-9e01-e0cbd092b081"
      },
      "execution_count": null,
      "outputs": [
        {
          "output_type": "execute_result",
          "data": {
            "text/plain": [
              "{'anchor': 'Khi có sự cố, tai nạn giao thông đường sắt đô thị, doanh nghiệp kinh doanh đường sắt báo ngay tin cho ai?',\n",
              " 'positive': 'Điều 22. Báo tin và xử lý tin báo về sự cố, tai nạn giao thông đường sắt1. Khi có sự cố, tai nạn xảy ra lái tàu hoặc nhân viên hỗ trợ an toàn phải báo ngay cho nhân viên điều độ chạy tàu.\\n2. Nhân viên điều độ chạy tàu phải báo ngay cho những tổ chức, cá nhân sau đây:\\na) Các ga hai đầu khu gian;\\nb) Doanh nghiệp kinh doanh đường sắt đô thị.\\n3. Doanh nghiệp kinh doanh đường sắt đô thị phải báo ngay cho những tổ chức, cá nhân sau đây:\\na) Cơ quan công an nơi gần nhất;\\nb) Ủy ban nhân dân cấp tỉnh (trong trường hợp xảy ra tai nạn chết người và trong các trường hợp cần sự phối hợp của Ủy ban nhân dân các cấp) và các đơn vị có liên quan.\\n4. Doanh nghiệp kinh doanh đường sắt đô thị quy định việc báo tin sự cố giao thông đường sắt gây ra không phải dừng tàu, không bế tắc chính tuyến, không ảnh hưởng đến biểu đồ chạy tàu.\\n5. Trường hợp quá thời gian chạy tàu trong khu gian theo kế hoạch chạy tàu mà không xác định được thông tin về đoàn tàu, nhân viên phục vụ chạy tàu tại ga đón phải thông báo tới Tổ chức điều hành giao thông vận tải đường sắt đô thị để có biện pháp xử lý tình huống và tổ chức xác định vị trí đoàn tàu trong khu gian. Đồng thời báo ngay cho nhân viên điều độ chạy tàu để có biện pháp xử lý tình huống.\\n6. Biện pháp báo tin:\\na) Khi xảy ra sự cố, tai nạn các cá nhân có liên quan phải nhanh chóng tìm mọi biện pháp, thông qua các phương tiện thông tin, liên lạc hoặc gặp trực tiếp để báo tin về sự cố, tai nạn đến các tổ chức, cá nhân có liên quan theo quy định tại Khoản 1, Khoản 2 và Khoản 3 Điều này;\\nb) Trong trường hợp các cá nhân quy định tại Khoản 1, Khoản 2 và Khoản 3 Điều này không thể liên lạc được với một trong số các tổ chức, cá nhân có liên quan thì yêu cầu tổ chức, cá nhân mình đã liên lạc được cùng phối hợp, hỗ trợ trong việc báo tin cho tổ chức, cá nhân còn lại.\\n7. Nội dung thông tin ban đầu về sự cố, tai nạn phải kịp thời, chính xác và bao gồm các nội dung sau:\\na) Địa điểm xảy ra sự cố, tai nạn (km, khu gian, xã, phường, quận, huyện, tỉnh, thành phố);\\nb) Thời gian xảy ra sự cố, tai nạn;\\nc) Số người chết, số người bị thương (nếu có);\\nd) Sơ bộ trạng thái hiện trường, phương tiện bị sự cố, tai nạn; kết cấu hạ tầng bị ảnh hưởng do sự cố, tai nạn gây ra;\\nđ) Ngoài việc báo tin ban đầu theo quy định tại Khoản 1 Điều này, nhân viên điều độ chạy tàu phải lập báo cáo tai nạn theo Mẫu quy định tại Phụ lục số 1 ban hành kèm theo Thông tư này. Báo cáo tai nạn được gửi cùng Hồ sơ vụ việc về sự cố, tai nạn tới các cơ quan chức năng theo quy định tại Khoản 3 Điều 22 của Thông tư này.\\n8. Xử lý tin báo về sự cố, tai nạn:\\na. Mọi tổ chức, cá nhân khi nhận được tin báo về sự cố, tai nạn hoặc yêu cầu phối hợp, hỗ trợ trong việc báo tin phải tìm mọi biện pháp để thực hiện theo đề nghị và báo lại cho người đề nghị (nếu được), đồng thời phải triển khai thực hiện ngay các công việc, biện pháp nghiệp vụ theo quy định nếu vụ tai nạn, sự cố thuộc phạm vi, trách nhiệm của mình.\\nb. Nếu sự cố, tai nạn không thuộc phạm vi, trách nhiệm giải quyết của mình thì tiếp tục báo tin cho tổ chức, cá nhân có trách nhiệm, phải phối hợp, hỗ trợ chặt chẽ khi có đề nghị của tổ chức, cá nhân có trách nhiệm.'}"
            ]
          },
          "metadata": {},
          "execution_count": 7
        }
      ]
    },
    {
      "cell_type": "code",
      "source": [
        "from sentence_transformers.losses import MatryoshkaLoss, MultipleNegativesRankingLoss\n",
        "\n",
        "matryoshka_dimensions = [768, 512, 256, 128, 64]  # Important: large to small\n",
        "inner_train_loss = MultipleNegativesRankingLoss(model)\n",
        "train_loss = MatryoshkaLoss(\n",
        "    model, inner_train_loss, matryoshka_dims=matryoshka_dimensions\n",
        ")"
      ],
      "metadata": {
        "id": "belh0-RikkiV"
      },
      "execution_count": null,
      "outputs": []
    },
    {
      "cell_type": "code",
      "source": [
        "from sentence_transformers import SentenceTransformerTrainingArguments\n",
        "from sentence_transformers.training_args import BatchSamplers\n",
        "\n",
        "# define training arguments\n",
        "args = SentenceTransformerTrainingArguments(\n",
        "    output_dir=\"sample\", # output directory and hugging face model ID\n",
        "    num_train_epochs=1,                         # number of epochs\n",
        "    per_device_train_batch_size=8,             # train batch size\n",
        "    gradient_accumulation_steps=4,             # for a global batch size of 512\n",
        "    per_device_eval_batch_size=4,              # evaluation batch size\n",
        "    #gradient_checkpointing=True,\n",
        "    warmup_ratio=0.1,                           # warmup ratio\n",
        "    learning_rate=2e-5,                         # learning rate, 2e-5 is a good value\n",
        "    lr_scheduler_type=\"cosine\",                 # use constant learning rate scheduler\n",
        "    optim=\"adamw_torch_fused\",                  # use fused adamw optimizer\n",
        "    #tf32=True,                                  # use tf32 precision\n",
        "    bf16=True,                                  # use bf16 precision\n",
        "    batch_sampler=BatchSamplers.NO_DUPLICATES,  # MultipleNegativesRankingLoss benefits from no duplicate samples in a batch\n",
        "    eval_strategy=\"steps\",                      # evaluate after each epoch\n",
        "    #save_strategy=\"epoch\",                      # save after each epoch\n",
        "    save_steps = 500,\n",
        "    logging_steps=10,                           # log every 10 steps\n",
        "    save_total_limit=3,                         # save only the last 3 models\n",
        "    load_best_model_at_end=True,                # load the best model when training ends\n",
        "    metric_for_best_model=\"eval_dim_768_cosine_ndcg@10\",  # Optimizing for the best ndcg@10 score for the 128 dimension\n",
        ")"
      ],
      "metadata": {
        "id": "6xrrp6Mtklw4"
      },
      "execution_count": null,
      "outputs": []
    },
    {
      "cell_type": "code",
      "source": [
        "from sentence_transformers import SentenceTransformerTrainer\n",
        "trainer = SentenceTransformerTrainer(\n",
        "    model=model,\n",
        "    args=args,  # training arguments\n",
        "    train_dataset=pairs,\n",
        "    loss=train_loss,\n",
        "    evaluator=evaluator,\n",
        ")"
      ],
      "metadata": {
        "id": "iam4hOexkmPc"
      },
      "execution_count": null,
      "outputs": []
    },
    {
      "cell_type": "code",
      "source": [
        "# start training, the model will be automatically saved to the hub and the output directory\n",
        "trainer.train()\n",
        "\n",
        "# save the best model\n",
        "trainer.save_model()"
      ],
      "metadata": {
        "colab": {
          "base_uri": "https://localhost:8080/",
          "height": 193,
          "referenced_widgets": [
            "8937970350a5456eb34404427571f3d9",
            "a909e83b41b74c2db2108d5375a895b5",
            "68d9ca8be7d843c6a5ae1d524c22134d",
            "36054bdcd5ad4b5eb7451f3b7b90b2a6",
            "5daa8f2b7eac44dab0c921b3156879a9",
            "c32235198be34aa2a23e9de64e7ab497",
            "2bc21fb787984d438131444962030173",
            "053b28c0f4b44791a76112d0bfe7f252",
            "bb84a3cb25a049769a6186732db3e6f7",
            "cdbc876c8fca463e8f296d8f27ca61ef",
            "71a393969a1445a5b98ee40ce07c0a81"
          ]
        },
        "id": "GR6qV1BHknfw",
        "outputId": "3004702f-6b74-4ebd-c589-20865dff5d50"
      },
      "execution_count": null,
      "outputs": [
        {
          "output_type": "display_data",
          "data": {
            "text/plain": [
              "<IPython.core.display.HTML object>"
            ],
            "text/html": [
              "\n",
              "    <div>\n",
              "      \n",
              "      <progress value='20' max='20' style='width:300px; height:20px; vertical-align: middle;'></progress>\n",
              "      [20/20 04:20, Epoch 0/1]\n",
              "    </div>\n",
              "    <table border=\"1\" class=\"dataframe\">\n",
              "  <thead>\n",
              " <tr style=\"text-align: left;\">\n",
              "      <th>Step</th>\n",
              "      <th>Training Loss</th>\n",
              "      <th>Validation Loss</th>\n",
              "      <th>Dim 768 Cosine Accuracy@1</th>\n",
              "      <th>Dim 768 Cosine Accuracy@3</th>\n",
              "      <th>Dim 768 Cosine Accuracy@5</th>\n",
              "      <th>Dim 768 Cosine Accuracy@10</th>\n",
              "      <th>Dim 768 Cosine Precision@1</th>\n",
              "      <th>Dim 768 Cosine Precision@3</th>\n",
              "      <th>Dim 768 Cosine Precision@5</th>\n",
              "      <th>Dim 768 Cosine Precision@10</th>\n",
              "      <th>Dim 768 Cosine Recall@1</th>\n",
              "      <th>Dim 768 Cosine Recall@3</th>\n",
              "      <th>Dim 768 Cosine Recall@5</th>\n",
              "      <th>Dim 768 Cosine Recall@10</th>\n",
              "      <th>Dim 768 Cosine Ndcg@10</th>\n",
              "      <th>Dim 768 Cosine Mrr@10</th>\n",
              "      <th>Dim 768 Cosine Map@100</th>\n",
              "      <th>Dim 512 Cosine Accuracy@1</th>\n",
              "      <th>Dim 512 Cosine Accuracy@3</th>\n",
              "      <th>Dim 512 Cosine Accuracy@5</th>\n",
              "      <th>Dim 512 Cosine Accuracy@10</th>\n",
              "      <th>Dim 512 Cosine Precision@1</th>\n",
              "      <th>Dim 512 Cosine Precision@3</th>\n",
              "      <th>Dim 512 Cosine Precision@5</th>\n",
              "      <th>Dim 512 Cosine Precision@10</th>\n",
              "      <th>Dim 512 Cosine Recall@1</th>\n",
              "      <th>Dim 512 Cosine Recall@3</th>\n",
              "      <th>Dim 512 Cosine Recall@5</th>\n",
              "      <th>Dim 512 Cosine Recall@10</th>\n",
              "      <th>Dim 512 Cosine Ndcg@10</th>\n",
              "      <th>Dim 512 Cosine Mrr@10</th>\n",
              "      <th>Dim 512 Cosine Map@100</th>\n",
              "      <th>Dim 256 Cosine Accuracy@1</th>\n",
              "      <th>Dim 256 Cosine Accuracy@3</th>\n",
              "      <th>Dim 256 Cosine Accuracy@5</th>\n",
              "      <th>Dim 256 Cosine Accuracy@10</th>\n",
              "      <th>Dim 256 Cosine Precision@1</th>\n",
              "      <th>Dim 256 Cosine Precision@3</th>\n",
              "      <th>Dim 256 Cosine Precision@5</th>\n",
              "      <th>Dim 256 Cosine Precision@10</th>\n",
              "      <th>Dim 256 Cosine Recall@1</th>\n",
              "      <th>Dim 256 Cosine Recall@3</th>\n",
              "      <th>Dim 256 Cosine Recall@5</th>\n",
              "      <th>Dim 256 Cosine Recall@10</th>\n",
              "      <th>Dim 256 Cosine Ndcg@10</th>\n",
              "      <th>Dim 256 Cosine Mrr@10</th>\n",
              "      <th>Dim 256 Cosine Map@100</th>\n",
              "      <th>Dim 128 Cosine Accuracy@1</th>\n",
              "      <th>Dim 128 Cosine Accuracy@3</th>\n",
              "      <th>Dim 128 Cosine Accuracy@5</th>\n",
              "      <th>Dim 128 Cosine Accuracy@10</th>\n",
              "      <th>Dim 128 Cosine Precision@1</th>\n",
              "      <th>Dim 128 Cosine Precision@3</th>\n",
              "      <th>Dim 128 Cosine Precision@5</th>\n",
              "      <th>Dim 128 Cosine Precision@10</th>\n",
              "      <th>Dim 128 Cosine Recall@1</th>\n",
              "      <th>Dim 128 Cosine Recall@3</th>\n",
              "      <th>Dim 128 Cosine Recall@5</th>\n",
              "      <th>Dim 128 Cosine Recall@10</th>\n",
              "      <th>Dim 128 Cosine Ndcg@10</th>\n",
              "      <th>Dim 128 Cosine Mrr@10</th>\n",
              "      <th>Dim 128 Cosine Map@100</th>\n",
              "      <th>Dim 64 Cosine Accuracy@1</th>\n",
              "      <th>Dim 64 Cosine Accuracy@3</th>\n",
              "      <th>Dim 64 Cosine Accuracy@5</th>\n",
              "      <th>Dim 64 Cosine Accuracy@10</th>\n",
              "      <th>Dim 64 Cosine Precision@1</th>\n",
              "      <th>Dim 64 Cosine Precision@3</th>\n",
              "      <th>Dim 64 Cosine Precision@5</th>\n",
              "      <th>Dim 64 Cosine Precision@10</th>\n",
              "      <th>Dim 64 Cosine Recall@1</th>\n",
              "      <th>Dim 64 Cosine Recall@3</th>\n",
              "      <th>Dim 64 Cosine Recall@5</th>\n",
              "      <th>Dim 64 Cosine Recall@10</th>\n",
              "      <th>Dim 64 Cosine Ndcg@10</th>\n",
              "      <th>Dim 64 Cosine Mrr@10</th>\n",
              "      <th>Dim 64 Cosine Map@100</th>\n",
              "      <th>Sequential Score</th>\n",
              "    </tr>\n",
              "  </thead>\n",
              "  <tbody>\n",
              "    <tr>\n",
              "      <td>10</td>\n",
              "      <td>0.437300</td>\n",
              "      <td>No log</td>\n",
              "      <td>0.841941</td>\n",
              "      <td>0.945227</td>\n",
              "      <td>0.965571</td>\n",
              "      <td>0.987480</td>\n",
              "      <td>0.841941</td>\n",
              "      <td>0.322900</td>\n",
              "      <td>0.198122</td>\n",
              "      <td>0.101252</td>\n",
              "      <td>0.827856</td>\n",
              "      <td>0.941315</td>\n",
              "      <td>0.962441</td>\n",
              "      <td>0.984351</td>\n",
              "      <td>0.917433</td>\n",
              "      <td>0.898084</td>\n",
              "      <td>0.895053</td>\n",
              "      <td>0.840376</td>\n",
              "      <td>0.954617</td>\n",
              "      <td>0.970266</td>\n",
              "      <td>0.990610</td>\n",
              "      <td>0.840376</td>\n",
              "      <td>0.326030</td>\n",
              "      <td>0.199061</td>\n",
              "      <td>0.101565</td>\n",
              "      <td>0.824726</td>\n",
              "      <td>0.950704</td>\n",
              "      <td>0.967136</td>\n",
              "      <td>0.987480</td>\n",
              "      <td>0.917933</td>\n",
              "      <td>0.897966</td>\n",
              "      <td>0.894260</td>\n",
              "      <td>0.826291</td>\n",
              "      <td>0.948357</td>\n",
              "      <td>0.964006</td>\n",
              "      <td>0.981221</td>\n",
              "      <td>0.826291</td>\n",
              "      <td>0.323944</td>\n",
              "      <td>0.197496</td>\n",
              "      <td>0.100626</td>\n",
              "      <td>0.811424</td>\n",
              "      <td>0.944444</td>\n",
              "      <td>0.960094</td>\n",
              "      <td>0.978091</td>\n",
              "      <td>0.907975</td>\n",
              "      <td>0.887611</td>\n",
              "      <td>0.884443</td>\n",
              "      <td>0.827856</td>\n",
              "      <td>0.937402</td>\n",
              "      <td>0.954617</td>\n",
              "      <td>0.976526</td>\n",
              "      <td>0.827856</td>\n",
              "      <td>0.320292</td>\n",
              "      <td>0.195931</td>\n",
              "      <td>0.100313</td>\n",
              "      <td>0.813772</td>\n",
              "      <td>0.933490</td>\n",
              "      <td>0.951487</td>\n",
              "      <td>0.974178</td>\n",
              "      <td>0.906272</td>\n",
              "      <td>0.886278</td>\n",
              "      <td>0.883776</td>\n",
              "      <td>0.769953</td>\n",
              "      <td>0.915493</td>\n",
              "      <td>0.945227</td>\n",
              "      <td>0.967136</td>\n",
              "      <td>0.769953</td>\n",
              "      <td>0.311424</td>\n",
              "      <td>0.194053</td>\n",
              "      <td>0.099374</td>\n",
              "      <td>0.756651</td>\n",
              "      <td>0.909233</td>\n",
              "      <td>0.942097</td>\n",
              "      <td>0.964789</td>\n",
              "      <td>0.872329</td>\n",
              "      <td>0.844582</td>\n",
              "      <td>0.841999</td>\n",
              "      <td>0.841999</td>\n",
              "    </tr>\n",
              "    <tr>\n",
              "      <td>20</td>\n",
              "      <td>0.503300</td>\n",
              "      <td>No log</td>\n",
              "      <td>0.846635</td>\n",
              "      <td>0.957746</td>\n",
              "      <td>0.971831</td>\n",
              "      <td>0.993740</td>\n",
              "      <td>0.846635</td>\n",
              "      <td>0.327074</td>\n",
              "      <td>0.199374</td>\n",
              "      <td>0.101878</td>\n",
              "      <td>0.831768</td>\n",
              "      <td>0.953834</td>\n",
              "      <td>0.968701</td>\n",
              "      <td>0.990610</td>\n",
              "      <td>0.923449</td>\n",
              "      <td>0.904265</td>\n",
              "      <td>0.900389</td>\n",
              "      <td>0.845070</td>\n",
              "      <td>0.959311</td>\n",
              "      <td>0.973396</td>\n",
              "      <td>0.990610</td>\n",
              "      <td>0.845070</td>\n",
              "      <td>0.327595</td>\n",
              "      <td>0.199687</td>\n",
              "      <td>0.101721</td>\n",
              "      <td>0.829421</td>\n",
              "      <td>0.955399</td>\n",
              "      <td>0.970266</td>\n",
              "      <td>0.988263</td>\n",
              "      <td>0.921542</td>\n",
              "      <td>0.902400</td>\n",
              "      <td>0.898620</td>\n",
              "      <td>0.830986</td>\n",
              "      <td>0.951487</td>\n",
              "      <td>0.968701</td>\n",
              "      <td>0.982786</td>\n",
              "      <td>0.830986</td>\n",
              "      <td>0.324987</td>\n",
              "      <td>0.198748</td>\n",
              "      <td>0.100939</td>\n",
              "      <td>0.816119</td>\n",
              "      <td>0.947574</td>\n",
              "      <td>0.965571</td>\n",
              "      <td>0.980438</td>\n",
              "      <td>0.913303</td>\n",
              "      <td>0.893511</td>\n",
              "      <td>0.890536</td>\n",
              "      <td>0.834116</td>\n",
              "      <td>0.949922</td>\n",
              "      <td>0.962441</td>\n",
              "      <td>0.978091</td>\n",
              "      <td>0.834116</td>\n",
              "      <td>0.324465</td>\n",
              "      <td>0.197496</td>\n",
              "      <td>0.100469</td>\n",
              "      <td>0.819249</td>\n",
              "      <td>0.946009</td>\n",
              "      <td>0.959311</td>\n",
              "      <td>0.975743</td>\n",
              "      <td>0.911605</td>\n",
              "      <td>0.892655</td>\n",
              "      <td>0.890146</td>\n",
              "      <td>0.777778</td>\n",
              "      <td>0.924883</td>\n",
              "      <td>0.954617</td>\n",
              "      <td>0.973396</td>\n",
              "      <td>0.777778</td>\n",
              "      <td>0.315597</td>\n",
              "      <td>0.196244</td>\n",
              "      <td>0.100156</td>\n",
              "      <td>0.762911</td>\n",
              "      <td>0.920188</td>\n",
              "      <td>0.952269</td>\n",
              "      <td>0.971831</td>\n",
              "      <td>0.880840</td>\n",
              "      <td>0.853367</td>\n",
              "      <td>0.850407</td>\n",
              "      <td>0.850407</td>\n",
              "    </tr>\n",
              "  </tbody>\n",
              "</table><p>"
            ]
          },
          "metadata": {}
        },
        {
          "output_type": "display_data",
          "data": {
            "text/plain": [
              "Computing widget examples:   0%|          | 0/1 [00:00<?, ?example/s]"
            ],
            "application/vnd.jupyter.widget-view+json": {
              "version_major": 2,
              "version_minor": 0,
              "model_id": "8937970350a5456eb34404427571f3d9"
            }
          },
          "metadata": {}
        }
      ]
    },
    {
      "cell_type": "markdown",
      "source": [
        "# Re-evaluate"
      ],
      "metadata": {
        "id": "gfUAMN3EkIF3"
      }
    },
    {
      "cell_type": "code",
      "source": [
        "from sentence_transformers import SentenceTransformer\n",
        "import torch\n",
        "fine_tuned_model = SentenceTransformer(\n",
        "    args.output_dir, device=\"cuda\" if torch.cuda.is_available() else \"cpu\"\n",
        ")\n",
        "# Evaluate the model\n",
        "results = evaluator(fine_tuned_model)\n",
        "\n",
        "for k,v in results.items():\n",
        "    print(k, v)"
      ],
      "metadata": {
        "colab": {
          "base_uri": "https://localhost:8080/"
        },
        "id": "DaZ9ibsfkI1-",
        "outputId": "638c98c4-cce6-44c3-ce8c-bce9a8b752c4"
      },
      "execution_count": null,
      "outputs": [
        {
          "output_type": "stream",
          "name": "stdout",
          "text": [
            "dim_768_cosine_accuracy@1 0.8497652582159625\n",
            "dim_768_cosine_accuracy@3 0.9577464788732394\n",
            "dim_768_cosine_accuracy@5 0.971830985915493\n",
            "dim_768_cosine_accuracy@10 0.9937402190923318\n",
            "dim_768_cosine_precision@1 0.8497652582159625\n",
            "dim_768_cosine_precision@3 0.3270735524256651\n",
            "dim_768_cosine_precision@5 0.19937402190923315\n",
            "dim_768_cosine_precision@10 0.10187793427230046\n",
            "dim_768_cosine_recall@1 0.8348982785602503\n",
            "dim_768_cosine_recall@3 0.9538341158059468\n",
            "dim_768_cosine_recall@5 0.9687010954616588\n",
            "dim_768_cosine_recall@10 0.9906103286384976\n",
            "dim_768_cosine_ndcg@10 0.9249410200836153\n",
            "dim_768_cosine_mrr@10 0.90623431949723\n",
            "dim_768_cosine_map@100 0.9023685432985649\n",
            "dim_512_cosine_accuracy@1 0.8482003129890454\n",
            "dim_512_cosine_accuracy@3 0.9577464788732394\n",
            "dim_512_cosine_accuracy@5 0.97339593114241\n",
            "dim_512_cosine_accuracy@10 0.9906103286384976\n",
            "dim_512_cosine_precision@1 0.8482003129890454\n",
            "dim_512_cosine_precision@3 0.3270735524256651\n",
            "dim_512_cosine_precision@5 0.19968701095461652\n",
            "dim_512_cosine_precision@10 0.10172143974960875\n",
            "dim_512_cosine_recall@1 0.8325508607198748\n",
            "dim_512_cosine_recall@3 0.9538341158059468\n",
            "dim_512_cosine_recall@5 0.9702660406885759\n",
            "dim_512_cosine_recall@10 0.9882629107981221\n",
            "dim_512_cosine_ndcg@10 0.9230039237653201\n",
            "dim_512_cosine_mrr@10 0.9043625953250365\n",
            "dim_512_cosine_map@100 0.9005791891463376\n",
            "dim_256_cosine_accuracy@1 0.8278560250391236\n",
            "dim_256_cosine_accuracy@3 0.9514866979655712\n",
            "dim_256_cosine_accuracy@5 0.9687010954616588\n",
            "dim_256_cosine_accuracy@10 0.9843505477308294\n",
            "dim_256_cosine_precision@1 0.8278560250391236\n",
            "dim_256_cosine_precision@3 0.3249869587897757\n",
            "dim_256_cosine_precision@5 0.1987480438184663\n",
            "dim_256_cosine_precision@10 0.10109546165884194\n",
            "dim_256_cosine_recall@1 0.8129890453834115\n",
            "dim_256_cosine_recall@3 0.9475743348982786\n",
            "dim_256_cosine_recall@5 0.9655712050078247\n",
            "dim_256_cosine_recall@10 0.9820031298904538\n",
            "dim_256_cosine_ndcg@10 0.9124371512326106\n",
            "dim_256_cosine_mrr@10 0.8918417914896787\n",
            "dim_256_cosine_map@100 0.888816816947737\n",
            "dim_128_cosine_accuracy@1 0.8309859154929577\n",
            "dim_128_cosine_accuracy@3 0.94679186228482\n",
            "dim_128_cosine_accuracy@5 0.9640062597809077\n",
            "dim_128_cosine_accuracy@10 0.9780907668231612\n",
            "dim_128_cosine_precision@1 0.8309859154929577\n",
            "dim_128_cosine_precision@3 0.323943661971831\n",
            "dim_128_cosine_precision@5 0.1978090766823161\n",
            "dim_128_cosine_precision@10 0.1004694835680751\n",
            "dim_128_cosine_recall@1 0.8161189358372457\n",
            "dim_128_cosine_recall@3 0.9436619718309859\n",
            "dim_128_cosine_recall@5 0.9608763693270735\n",
            "dim_128_cosine_recall@10 0.9757433489827856\n",
            "dim_128_cosine_ndcg@10 0.9103506776626437\n",
            "dim_128_cosine_mrr@10 0.8908438284025141\n",
            "dim_128_cosine_map@100 0.8885238558888712\n",
            "dim_64_cosine_accuracy@1 0.7793427230046949\n",
            "dim_64_cosine_accuracy@3 0.9248826291079812\n",
            "dim_64_cosine_accuracy@5 0.9530516431924883\n",
            "dim_64_cosine_accuracy@10 0.97339593114241\n",
            "dim_64_cosine_precision@1 0.7793427230046949\n",
            "dim_64_cosine_precision@3 0.31559728742827337\n",
            "dim_64_cosine_precision@5 0.19593114241001564\n",
            "dim_64_cosine_precision@10 0.10015649452269168\n",
            "dim_64_cosine_recall@1 0.7644757433489828\n",
            "dim_64_cosine_recall@3 0.92018779342723\n",
            "dim_64_cosine_recall@5 0.9507042253521126\n",
            "dim_64_cosine_recall@10 0.971830985915493\n",
            "dim_64_cosine_ndcg@10 0.8819030369833118\n",
            "dim_64_cosine_mrr@10 0.8547600417318728\n",
            "dim_64_cosine_map@100 0.851787967215017\n",
            "sequential_score 0.851787967215017\n"
          ]
        }
      ]
    },
    {
      "cell_type": "markdown",
      "source": [
        "# Push model to hub"
      ],
      "metadata": {
        "id": "45hdI3gYU492"
      }
    },
    {
      "cell_type": "code",
      "source": [
        "# from huggingface_hub import login\n",
        "\n",
        "# login(token=\"\", add_to_git_credential=True)  # ADD YOUR TOKEN HERE"
      ],
      "metadata": {
        "id": "iU_hhU8x7PZK"
      },
      "execution_count": null,
      "outputs": []
    },
    {
      "cell_type": "code",
      "source": [
        "# push model to hub\n",
        "#trainer.model.push_to_hub(\"miai-sample-embedding\")"
      ],
      "metadata": {
        "id": "nFCTUx6dVC7n"
      },
      "execution_count": null,
      "outputs": []
    }
  ]
}